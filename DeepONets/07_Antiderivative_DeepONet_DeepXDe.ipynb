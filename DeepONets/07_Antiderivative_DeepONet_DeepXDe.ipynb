{
 "cells": [
  {
   "attachments": {},
   "cell_type": "markdown",
   "metadata": {},
   "source": [
    "# Operator Learning with DeepXDE"
   ]
  },
  {
   "cell_type": "code",
   "execution_count": 2,
   "metadata": {},
   "outputs": [
    {
     "name": "stdout",
     "output_type": "stream",
     "text": [
      "Compiling model...\n",
      "'compile' took 0.000918 s\n",
      "\n",
      "Training model...\n",
      "\n",
      "Step      Train loss    Test loss     Test metric   \n",
      "0         [1.38e+00]    [1.35e+00]    [2.16e+00]    \n",
      "1000      [9.33e-05]    [1.79e-04]    [4.75e-02]    \n",
      "2000      [3.59e-05]    [8.56e-05]    [3.24e-02]    \n",
      "3000      [1.98e-05]    [5.38e-05]    [2.61e-02]    \n",
      "4000      [1.38e-05]    [4.04e-05]    [2.30e-02]    \n",
      "5000      [1.24e-05]    [3.54e-05]    [2.11e-02]    \n",
      "6000      [9.31e-06]    [2.72e-05]    [1.88e-02]    \n",
      "7000      [7.76e-06]    [2.24e-05]    [1.71e-02]    \n",
      "8000      [6.34e-06]    [1.77e-05]    [1.55e-02]    \n",
      "9000      [5.75e-06]    [1.49e-05]    [1.44e-02]    \n",
      "10000     [4.87e-06]    [1.20e-05]    [1.33e-02]    \n",
      "\n",
      "Best model at step 10000:\n",
      "  train loss: 4.87e-06\n",
      "  test loss: 1.20e-05\n",
      "  test metric: [1.33e-02]\n",
      "\n",
      "'train' took 17.843056 s\n",
      "\n"
     ]
    },
    {
     "data": {
      "image/png": "[encoded data removed]",
      "text/plain": [
       "<Figure size 432x288 with 1 Axes>"
      ]
     },
     "metadata": {
      "needs_background": "light"
     },
     "output_type": "display_data"
    }
   ],
   "source": [
    "\"\"\"Backend supported: tensorflow.compat.v1, tensorflow, pytorch, paddle\"\"\"\n",
    "import deepxde as dde\n",
    "import matplotlib.pyplot as plt\n",
    "import numpy as np\n",
    "\n",
    "# Load dataset\n",
    "d = np.load(\"dataset/antiderivative_aligned_train.npz\", allow_pickle=True)\n",
    "X_train = (d[\"X\"][0].astype(np.float32), d[\"X\"][1].astype(np.float32))\n",
    "y_train = d[\"y\"].astype(np.float32)\n",
    "d = np.load(\"dataset/antiderivative_aligned_test.npz\", allow_pickle=True)\n",
    "X_test = (d[\"X\"][0].astype(np.float32), d[\"X\"][1].astype(np.float32))\n",
    "y_test = d[\"y\"].astype(np.float32)\n",
    "\n",
    "data = dde.data.TripleCartesianProd(\n",
    "    X_train=X_train, y_train=y_train, X_test=X_test, y_test=y_test\n",
    ")\n",
    "\n",
    "# Choose a network\n",
    "m = 100\n",
    "dim_x = 1\n",
    "net = dde.nn.DeepONetCartesianProd(\n",
    "    [m, 40, 40],\n",
    "    [dim_x, 40, 40],\n",
    "    \"relu\",\n",
    "    \"Glorot normal\",\n",
    ")\n",
    "\n",
    "# Define a Model\n",
    "model = dde.Model(data, net)\n",
    "\n",
    "# Compile and Train\n",
    "model.compile(\"adam\", lr=0.001, metrics=[\"mean l2 relative error\"])\n",
    "losshistory, train_state = model.train(iterations=10000)\n",
    "\n",
    "# Plot the loss trajectory\n",
    "dde.utils.plot_loss_history(losshistory)\n",
    "plt.show()"
   ]
  }
 ],
 "metadata": {
  "kernelspec": {
   "display_name": "jax",
   "language": "python",
   "name": "python3"
  },
  "language_info": {
   "codemirror_mode": {
    "name": "ipython",
    "version": 3
   },
   "file_extension": ".py",
   "mimetype": "text/x-python",
   "name": "python",
   "nbconvert_exporter": "python",
   "pygments_lexer": "ipython3",
   "version": "3.9.16"
  },
  "orig_nbformat": 4
 },
 "nbformat": 4,
 "nbformat_minor": 2
}
